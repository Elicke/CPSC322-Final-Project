{
 "cells": [
  {
   "cell_type": "code",
   "execution_count": 1,
   "metadata": {},
   "outputs": [],
   "source": [
    "import importlib\n",
    "from tabulate import tabulate\n",
    "\n",
    "import mysklearn.myutils\n",
    "importlib.reload(mysklearn.myutils)\n",
    "import mysklearn.myutils as myutils\n",
    "\n",
    "import mysklearn.plot_utils\n",
    "importlib.reload(mysklearn.plot_utils)\n",
    "import mysklearn.plot_utils as plot_utils\n",
    "\n",
    "import mysklearn.mypytable\n",
    "importlib.reload(mysklearn.mypytable)\n",
    "from mysklearn.mypytable import MyPyTable \n",
    "\n",
    "import mysklearn.myclassifiers\n",
    "importlib.reload(mysklearn.myclassifiers)\n",
    "from mysklearn.myclassifiers import MyKNeighborsClassifier, MyDummyClassifier, MyNaiveBayesClassifier, MyDecisionTreeClassifier\n",
    "\n",
    "import mysklearn.myevaluation\n",
    "importlib.reload(mysklearn.myevaluation)\n",
    "import mysklearn.myevaluation as myevaluation"
   ]
  },
  {
   "cell_type": "code",
   "execution_count": 2,
   "metadata": {},
   "outputs": [],
   "source": [
    "pytable_10s = MyPyTable().load_from_file(\"input_data/dataset-of-10s.csv\")\n",
    "pytable_00s = MyPyTable().load_from_file(\"input_data/dataset-of-00s.csv\")\n",
    "pytable_90s = MyPyTable().load_from_file(\"input_data/dataset-of-90s.csv\")\n",
    "pytable_80s = MyPyTable().load_from_file(\"input_data/dataset-of-80s.csv\")\n",
    "pytable_70s = MyPyTable().load_from_file(\"input_data/dataset-of-70s.csv\")\n",
    "pytable_60s = MyPyTable().load_from_file(\"input_data/dataset-of-60s.csv\")\n",
    "\n",
    "# full_table = pytable_10s.data.copy() + pytable_00s.data.copy() + pytable_90s.data.copy() + pytable_80s.data.copy() \\\n",
    "#     + pytable_70s.data.copy() + pytable_60s.data.copy()\n",
    "\n",
    "_, group_subtables_10s = myutils.group_by(pytable_10s.data, pytable_10s.column_names, \"target\")\n",
    "reduced_size_10s_table = []\n",
    "for i in range(100):\n",
    "    reduced_size_10s_table.append(group_subtables_10s[0][i])\n",
    "    reduced_size_10s_table.append(group_subtables_10s[1][i])\n",
    "# print(reduced_size_10s_table)\n",
    "\n",
    "X_data = [[instance[3], instance[4]] for instance in reduced_size_10s_table]\n",
    "y_data = [instance[-1] for instance in reduced_size_10s_table]\n",
    "\n",
    "matrix_header = [\"Class\", \"Hit\", \"Flop\"]"
   ]
  },
  {
   "cell_type": "code",
   "execution_count": 3,
   "metadata": {},
   "outputs": [
    {
     "name": "stdout",
     "output_type": "stream",
     "text": [
      "k Nearest Neighbors Classifier w/ Stratified 10-Fold Cross Validation\n",
      "accuracy: 0.695\n",
      "error rate: 0.30500000000000005\n",
      "precision: 0.6893203883495146\n",
      "recall: 0.71\n",
      "f1: 0.6995073891625615\n",
      "Class      Hit    Flop\n",
      "-------  -----  ------\n",
      "Hit         71      29\n",
      "Flop        32      68\n"
     ]
    }
   ],
   "source": [
    "knn_classifier = MyKNeighborsClassifier()\n",
    "print(\"k Nearest Neighbors Classifier w/ Stratified 10-Fold Cross Validation\")\n",
    "accuracy, error_rate, precision, recall, f1, knn_y_true, knn_y_pred = myevaluation.do_cross_validation(10,\n",
    "    X_data, y_data, knn_classifier, stratified=True, pos_label=1.0)\n",
    "print(\"accuracy:\", accuracy)\n",
    "print(\"error rate:\", error_rate)\n",
    "print(\"precision:\", precision)\n",
    "print(\"recall:\", recall)\n",
    "print(\"f1:\", f1)\n",
    "knn_matrix = myevaluation.confusion_matrix(knn_y_true, knn_y_pred, [1.0, 0.0])\n",
    "knn_matrix[0].insert(0, \"Hit\")\n",
    "knn_matrix[1].insert(0, \"Flop\")\n",
    "print(tabulate(knn_matrix, headers=matrix_header))"
   ]
  },
  {
   "cell_type": "code",
   "execution_count": 4,
   "metadata": {},
   "outputs": [
    {
     "name": "stdout",
     "output_type": "stream",
     "text": [
      "Dummy Classifier w/ Stratified 10-Fold Cross Validation\n",
      "accuracy: 0.5\n",
      "error rate: 0.5\n",
      "precision: 0.0\n",
      "recall: 0.0\n",
      "f1: 0.0\n",
      "Class      Hit    Flop\n",
      "-------  -----  ------\n",
      "Hit          0     100\n",
      "Flop         0     100\n"
     ]
    }
   ],
   "source": [
    "dummy_classifier = MyDummyClassifier()\n",
    "print(\"Dummy Classifier w/ Stratified 10-Fold Cross Validation\")\n",
    "accuracy, error_rate, precision, recall, f1, dummy_y_true, dummy_y_pred = myevaluation.do_cross_validation(10,\n",
    "    X_data, y_data, dummy_classifier, stratified=True, pos_label=1.0)\n",
    "print(\"accuracy:\", accuracy)\n",
    "print(\"error rate:\", error_rate)\n",
    "print(\"precision:\", precision)\n",
    "print(\"recall:\", recall)\n",
    "print(\"f1:\", f1)\n",
    "dummy_matrix = myevaluation.confusion_matrix(dummy_y_true, dummy_y_pred, [1.0, 0.0])\n",
    "dummy_matrix[0].insert(0, \"Hit\")\n",
    "dummy_matrix[1].insert(0, \"Flop\")\n",
    "print(tabulate(dummy_matrix, headers=matrix_header))"
   ]
  }
 ],
 "metadata": {
  "interpreter": {
   "hash": "d4d1e4263499bec80672ea0156c357c1ee493ec2b1c70f0acce89fc37c4a6abe"
  },
  "kernelspec": {
   "display_name": "Python 3.9.7 ('base')",
   "language": "python",
   "name": "python3"
  },
  "language_info": {
   "codemirror_mode": {
    "name": "ipython",
    "version": 3
   },
   "file_extension": ".py",
   "mimetype": "text/x-python",
   "name": "python",
   "nbconvert_exporter": "python",
   "pygments_lexer": "ipython3",
   "version": "3.9.7"
  },
  "orig_nbformat": 4
 },
 "nbformat": 4,
 "nbformat_minor": 2
}
