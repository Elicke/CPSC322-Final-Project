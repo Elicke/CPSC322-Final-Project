{
 "cells": [
  {
   "cell_type": "markdown",
   "metadata": {},
   "source": [
    "# Spotify Hit Prediction\n",
    "\n",
    "## Team Members\n",
    "* Kyle Manning\n",
    "* Blake Rosenthal\n",
    "\n",
    "## Dataset Description\n",
    "* Source: https://www.kaggle.com/datasets/theoverman/the-spotify-hit-predictor-dataset \n",
    "* Format: .csv Files \n",
    "\n",
    "This dataset contains over 40,000 tracks fetched using Spotify's Web API. The tracks are listed with their features,\n",
    "including whether they are 'hits' or 'flops.' \n",
    "\n",
    "The attributes for each track include danceability, energy, key, loudness, acousticness, tempo, duration, time signature, etc. \n",
    "The attribute we will be trying to predict is the target variable described below: \n",
    "\n",
    "> target: The target variable for the track. It can be either '0' or '1'. '1' implies that this song has featured in the weekly list (Issued by Billboards) of Hot-100 tracks in that decade at least once and is therefore a 'hit'. '0' Implies that the track is a 'flop'.\n",
    ">\n",
    "> The author's condition of a track being 'flop' is as follows:\n",
    ">\n",
    "> - The track must not appear in the 'hit' list of that decade.\n",
    "> - The track's artist must not appear in the 'hit' list of that decade.\n",
    "> - The track must belong to a genre that could be considered non-mainstream and / or avant-garde. \n",
    "> - The track's genre must not have a song in the 'hit' list.\n",
    "> - The track must have 'US' as one of its markets.\n",
    "\n",
    "## Implementation/Technical Merit\n",
    "* Anticipated Challenges: Not many, since the data already appears to be cleaned (though the different tables\n",
    "    for each decade need to be joined). However, we are dealing with a large quantity of instances and attributes.\n",
    "* Paring Down the Attributes: At the very least, we can likely cut out the non-numerical attributes. From there,\n",
    "    we will likely need to perform decision tree pruning to reduce overfitting.\n",
    "\n",
    "## Potential Impact of the Results\n",
    "* These results can be useful because creating songs that become mainstream hits is, in a sense, sort of a science.\n",
    "    Many popular songs share identical or similar elements that contribute to their commercial success (i.e. chord progression).\n",
    "    These results can help us break down this \"science.\"\n",
    "* Stakeholders primarily include songwriters trying to break into the mainstream (often, but not exclusively, pop music artists)."
   ]
  }
 ],
 "metadata": {
  "language_info": {
   "name": "python"
  },
  "orig_nbformat": 4
 },
 "nbformat": 4,
 "nbformat_minor": 2
}
