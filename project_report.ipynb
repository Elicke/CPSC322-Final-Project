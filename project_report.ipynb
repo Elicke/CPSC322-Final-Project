{
 "cells": [
  {
   "cell_type": "markdown",
   "metadata": {},
   "source": [
    "# Spotify Hit Prediction: Technical Report\n",
    "Contributors: Kyle Manning, Blake Rosenthal  \n",
    "Class: CPSC 322, Spring 2022"
   ]
  },
  {
   "cell_type": "markdown",
   "metadata": {},
   "source": [
    "## Introduction\n",
    "This [dataset we are working with](https://www.kaggle.com/datasets/theoverman/the-spotify-hit-predictor-dataset) consists of songs/tracks fetched using Spotify's Web API. Each track is labeled as a 'Hit' or 'Flop' according to the following criteria defined by the author of the dataset:\n",
    "\n",
    "> target: The target variable for the track. It can be either '0' or '1'. '1' implies that this song has featured in the weekly list (Issued by Billboards) of Hot-100 tracks in that decade at least once and is therefore a 'hit'. '0' Implies that the track is a 'flop'.\n",
    ">\n",
    "> The author's condition of a track being 'flop' is as follows:\n",
    ">\n",
    ">- The track must not appear in the 'hit' list of that decade.\n",
    ">- The track's artist must not appear in the 'hit' list of that decade.\n",
    ">- The track must belong to a genre that could be considered non-mainstream and / or avant-garde. \n",
    ">- The track's genre must not have a song in the 'hit' list.\n",
    ">- The track must have 'US' as one of its markets.\n",
    "\n",
    "This is the class label we are trying to predict.  \n",
    "In the end, we found the Naive Bayes classifier approach performing the best with, for example, an accuracy of 70.5%."
   ]
  },
  {
   "cell_type": "markdown",
   "metadata": {},
   "source": [
    "## Data Analysis\n",
    "This dataset contains, across six different .csv files (each pertaining to a different decade), over 40,000 instances.  \n",
    "Each instance has 19 different attributes:  \n",
    "- 3 of these attributes (track name, artist name, Spotify uri) are mostly irrelevant for the task at hand\n",
    "- 15 of these attributes (including danceability, energy, loudness, acousticness, instrumentalness, tempo, duration, time signature, etc.) could potentially help us with this classification task\n",
    "- 1 attribute is the 'target' attribute, A.K.A. the class label ('Hit' or 'Flop')  \n",
    "It is also worth noting that, very beneficially, the dataset is clean (no missing attribute values) and contains a 50/50 split of 'Hits' and 'Flops'.  \n",
    "Before analyzing the dataset, we need to reduce its size, as 40,000+ instances will be too computationally expensive (especially for certain classifiers).  \n",
    "In reducing its size, we also decided to limit our work to the 2010s and 2000s datasets. We figured this would be a better classification task, as the type of music that breaks into the 'mainstream' is likely quite different decade to decade.  \n",
    "We also made sure when reducing the dataset size to maintain the 50/50 'Hit' and 'Flop' split."
   ]
  },
  {
   "cell_type": "markdown",
   "metadata": {},
   "source": [
    "### Data Preprocessing"
   ]
  },
  {
   "cell_type": "code",
   "execution_count": 1,
   "metadata": {},
   "outputs": [],
   "source": [
    "import importlib\n",
    "from tabulate import tabulate\n",
    "\n",
    "import mysklearn.myutils\n",
    "importlib.reload(mysklearn.myutils)\n",
    "import mysklearn.myutils as myutils\n",
    "\n",
    "import mysklearn.plot_utils\n",
    "importlib.reload(mysklearn.plot_utils)\n",
    "import mysklearn.plot_utils as plot_utils\n",
    "\n",
    "import mysklearn.mypytable\n",
    "importlib.reload(mysklearn.mypytable)\n",
    "from mysklearn.mypytable import MyPyTable \n",
    "\n",
    "import mysklearn.myclassifiers\n",
    "importlib.reload(mysklearn.myclassifiers)\n",
    "from mysklearn.myclassifiers import MyKNeighborsClassifier, MyDummyClassifier, MyNaiveBayesClassifier, MyDecisionTreeClassifier\n",
    "\n",
    "import mysklearn.myevaluation\n",
    "importlib.reload(mysklearn.myevaluation)\n",
    "import mysklearn.myevaluation as myevaluation"
   ]
  },
  {
   "cell_type": "code",
   "execution_count": 2,
   "metadata": {},
   "outputs": [],
   "source": [
    "pytable_10s = MyPyTable().load_from_file(\"input_data/dataset-of-10s.csv\")\n",
    "pytable_00s = MyPyTable().load_from_file(\"input_data/dataset-of-00s.csv\")\n",
    "# pytable_90s = MyPyTable().load_from_file(\"input_data/dataset-of-90s.csv\")\n",
    "# pytable_80s = MyPyTable().load_from_file(\"input_data/dataset-of-80s.csv\")\n",
    "# pytable_70s = MyPyTable().load_from_file(\"input_data/dataset-of-70s.csv\")\n",
    "# pytable_60s = MyPyTable().load_from_file(\"input_data/dataset-of-60s.csv\")\n",
    "\n",
    "# Need to reduce the size of our dataset for the sake of computing efficiency\n",
    "# We want an equal distribution of \"Hits\" and \"Flops\"\n",
    "# As well as an equal distribution of tracks between the 2010s and the 2000s\n",
    "\n",
    "_, target_subtables_10s = myutils.group_by(pytable_10s.data, pytable_10s.column_names, \"target\")\n",
    "_, target_subtables_00s = myutils.group_by(pytable_00s.data, pytable_00s.column_names, \"target\")\n",
    "# _, target_subtables_90s = myutils.group_by(pytable_90s.data, pytable_90s.column_names, \"target\")\n",
    "# _, target_subtables_80s = myutils.group_by(pytable_80s.data, pytable_80s.column_names, \"target\")\n",
    "# _, target_subtables_70s = myutils.group_by(pytable_70s.data, pytable_70s.column_names, \"target\")\n",
    "# _, target_subtables_60s = myutils.group_by(pytable_60s.data, pytable_60s.column_names, \"target\")\n",
    "\n",
    "reduced_size_table = []\n",
    "for i in range(500):\n",
    "    reduced_size_table.append(target_subtables_10s[0][i])\n",
    "    reduced_size_table.append(target_subtables_10s[1][i])\n",
    "    reduced_size_table.append(target_subtables_00s[0][i])\n",
    "    reduced_size_table.append(target_subtables_00s[1][i])\n",
    "    # reduced_size_table.append(target_subtables_90s[0][i])\n",
    "    # reduced_size_table.append(target_subtables_90s[1][i])\n",
    "    # reduced_size_table.append(target_subtables_80s[0][i])\n",
    "    # reduced_size_table.append(target_subtables_80s[1][i])\n",
    "    # reduced_size_table.append(target_subtables_70s[0][i])\n",
    "    # reduced_size_table.append(target_subtables_70s[1][i])\n",
    "    # reduced_size_table.append(target_subtables_60s[0][i])\n",
    "    # reduced_size_table.append(target_subtables_60s[1][i])\n"
   ]
  },
  {
   "cell_type": "markdown",
   "metadata": {},
   "source": [
    "### EDA / Feature Selection\n",
    "Through our exploratory data analysis detailed below, we determined that we should use the danceability, energy, valence, and tempo attributes for classification.  \n",
    "The EDA below depicts histograms that display the distributions of each of these 4 attributes in both 'Hits' and 'Flops'."
   ]
  },
  {
   "cell_type": "code",
   "execution_count": 3,
   "metadata": {},
   "outputs": [],
   "source": [
    "_, target_subtables = myutils.group_by(reduced_size_table, pytable_10s.column_names, \"target\")\n",
    "flop_subtable = target_subtables[0].copy()\n",
    "hit_subtable = target_subtables[1].copy()"
   ]
  },
  {
   "cell_type": "markdown",
   "metadata": {},
   "source": [
    "#### Danceability\n",
    "Figures 1 and 2 below show us that 'Hits' typically have a higher danceability rating than 'Flops' do.  \n",
    "For 'Hits', they congregate mostly around the 0.5-0.8 mark, while 'Flops' are more spread out."
   ]
  },
  {
   "cell_type": "markdown",
   "metadata": {},
   "source": [
    "##### Flop Danceability Distribution"
   ]
  },
  {
   "cell_type": "code",
   "execution_count": 4,
   "metadata": {},
   "outputs": [
    {
     "data": {
      "image/png": "[encoded data removed]",
      "text/plain": [
       "<Figure size 1080x576 with 1 Axes>"
      ]
     },
     "metadata": {
      "needs_background": "light"
     },
     "output_type": "display_data"
    }
   ],
   "source": [
    "flop_danceability_col = myutils.get_column(flop_subtable, known_col_index=3)\n",
    "plot_utils.draw_histogram(\"Figure 1: Danceability Distribution for Flops\", \"Danceability\", \"Count\",\n",
    "    flop_danceability_col, 10, (0.0, 1.0))"
   ]
  },
  {
   "cell_type": "markdown",
   "metadata": {},
   "source": [
    "##### Hit Danceability Distribution"
   ]
  },
  {
   "cell_type": "code",
   "execution_count": 5,
   "metadata": {},
   "outputs": [
    {
     "data": {
      "image/png": "[encoded data removed]",
      "text/plain": [
       "<Figure size 1080x576 with 1 Axes>"
      ]
     },
     "metadata": {
      "needs_background": "light"
     },
     "output_type": "display_data"
    }
   ],
   "source": [
    "hit_danceability_col = myutils.get_column(hit_subtable, known_col_index=3)\n",
    "plot_utils.draw_histogram(\"Figure 2: Danceability Distribution for Hits\", \"Danceability\", \"Count\",\n",
    "    hit_danceability_col, 10, (0.0, 1.0))"
   ]
  },
  {
   "cell_type": "markdown",
   "metadata": {},
   "source": [
    "#### Energy\n",
    "Figure 3 below was a bit surprising for us. Intuitively, we imagined that 'Flops' would typically have a lower energy rating, but there appears to be a large group of them around the 0.9-1.0 mark. In reflection, this may be explained by the fact that there are plenty of genres with extremely high energy, but not the type of energy that mainstream audiences are looking for (i.e. power metal).  \n",
    "Either way, comparing this chart to Figure 4 shows that energy is a good metric for classification."
   ]
  },
  {
   "cell_type": "markdown",
   "metadata": {},
   "source": [
    "##### Flop Energy Distribution"
   ]
  },
  {
   "cell_type": "code",
   "execution_count": 6,
   "metadata": {},
   "outputs": [
    {
     "data": {
      "image/png": "[encoded data removed]",
      "text/plain": [
       "<Figure size 1080x576 with 1 Axes>"
      ]
     },
     "metadata": {
      "needs_background": "light"
     },
     "output_type": "display_data"
    }
   ],
   "source": [
    "flop_energy_col = myutils.get_column(flop_subtable, known_col_index=4)\n",
    "plot_utils.draw_histogram(\"Figure 3: Energy Distribution for Flops\", \"Energy\", \"Count\",\n",
    "    flop_energy_col, 10, (0.0, 1.0))"
   ]
  },
  {
   "cell_type": "markdown",
   "metadata": {},
   "source": [
    "##### Hit Energy Distribution"
   ]
  },
  {
   "cell_type": "code",
   "execution_count": 7,
   "metadata": {},
   "outputs": [
    {
     "data": {
      "image/png": "[encoded data removed]",
      "text/plain": [
       "<Figure size 1080x576 with 1 Axes>"
      ]
     },
     "metadata": {
      "needs_background": "light"
     },
     "output_type": "display_data"
    }
   ],
   "source": [
    "hit_energy_col = myutils.get_column(hit_subtable, known_col_index=4)\n",
    "plot_utils.draw_histogram(\"Figure 4: Energy Distribution for Hits\", \"Energy\", \"Count\",\n",
    "    hit_energy_col, 10, (0.0, 1.0))"
   ]
  },
  {
   "cell_type": "markdown",
   "metadata": {},
   "source": [
    "#### Valence\n",
    "Figures 5 and 6 below display that 'Flops' typically have a lower valence rating ('valence' meaning positivity/happiness) than 'Hits' do, which intuitively seems logical."
   ]
  },
  {
   "cell_type": "markdown",
   "metadata": {},
   "source": [
    "##### Flop Valence Distribution"
   ]
  },
  {
   "cell_type": "code",
   "execution_count": 8,
   "metadata": {},
   "outputs": [
    {
     "data": {
      "image/png": "[encoded data removed]",
      "text/plain": [
       "<Figure size 1080x576 with 1 Axes>"
      ]
     },
     "metadata": {
      "needs_background": "light"
     },
     "output_type": "display_data"
    }
   ],
   "source": [
    "flop_valence_col = myutils.get_column(flop_subtable, known_col_index=12)\n",
    "plot_utils.draw_histogram(\"Figure 5: Valence Distribution for Flops\", \"Valence\", \"Count\",\n",
    "    flop_valence_col, 10, (0.0, 1.0))"
   ]
  },
  {
   "cell_type": "markdown",
   "metadata": {},
   "source": [
    "##### Hit Valence Distribution"
   ]
  },
  {
   "cell_type": "code",
   "execution_count": 9,
   "metadata": {},
   "outputs": [
    {
     "data": {
      "image/png": "[encoded data removed]",
      "text/plain": [
       "<Figure size 1080x576 with 1 Axes>"
      ]
     },
     "metadata": {
      "needs_background": "light"
     },
     "output_type": "display_data"
    }
   ],
   "source": [
    "hit_valence_col = myutils.get_column(hit_subtable, known_col_index=12)\n",
    "plot_utils.draw_histogram(\"Figure 6: Valence Distribution for Hits\", \"Valence\", \"Count\",\n",
    "    hit_valence_col, 10, (0.0, 1.0))"
   ]
  },
  {
   "cell_type": "markdown",
   "metadata": {},
   "source": [
    "#### Tempo\n",
    "Figures 7 and 8 below display that the distribution of tempos for 'Flops' skews slightly lower than the distribution of tempos for 'Hits'.  \n",
    "In particular, the bin with the highest count for 'Flops' hovers around the 100 bpm mark; in contrast, for 'Hits' it is the bin hovering around the 125 bpm mark."
   ]
  },
  {
   "cell_type": "markdown",
   "metadata": {},
   "source": [
    "##### Flop Tempo Distribution"
   ]
  },
  {
   "cell_type": "code",
   "execution_count": 10,
   "metadata": {},
   "outputs": [
    {
     "data": {
      "image/png": "[encoded data removed]",
      "text/plain": [
       "<Figure size 1080x576 with 1 Axes>"
      ]
     },
     "metadata": {
      "needs_background": "light"
     },
     "output_type": "display_data"
    }
   ],
   "source": [
    "flop_tempo_col = myutils.get_column(flop_subtable, known_col_index=13)\n",
    "plot_utils.draw_histogram(\"Figure 7: Tempo Distribution for Flops\", \"Tempo (beats per minute)\", \"Count\",\n",
    "    flop_tempo_col, 10, (35, 210))"
   ]
  },
  {
   "cell_type": "markdown",
   "metadata": {},
   "source": [
    "##### Hit Tempo Distribution"
   ]
  },
  {
   "cell_type": "code",
   "execution_count": 11,
   "metadata": {},
   "outputs": [
    {
     "data": {
      "image/png": "[encoded data removed]",
      "text/plain": [
       "<Figure size 1080x576 with 1 Axes>"
      ]
     },
     "metadata": {
      "needs_background": "light"
     },
     "output_type": "display_data"
    }
   ],
   "source": [
    "hit_tempo_col = myutils.get_column(hit_subtable, known_col_index=13)\n",
    "plot_utils.draw_histogram(\"Figure 8: Tempo Distribution for Hits\", \"Tempo (beats per minute)\", \"Count\",\n",
    "    hit_tempo_col, 10, (35, 210))"
   ]
  },
  {
   "cell_type": "markdown",
   "metadata": {},
   "source": [
    "## Classification Results\n",
    "The following classifiers are evaluated down below: kNN (with k=3 and k=5), Naive Bayes, and Decision Tree.  \n",
    "Unfortunately, our attempted random forest implementation did not pan out, so it is not included in this project.  \n",
    "\n",
    "Each classifier was evaluated using stratified 10-fold cross validation to ensure that the 50/50 'Hit' and 'Flop' class split was maintained.  \n",
    "The performance metrics used to compare the classifiers include accuracy, precision, recall, and F1 score. We believe accuracy is the most significant metric here, as detection of 'Hits' and detection of 'Flops' are likely of nearly equal importance, but the other metrics are still provided for a well-rounded analysis. Additionally, all these metrics are fit for a binary classification task like this.  \n",
    "\n",
    "For kNN classification, tempo needed to be normalized so as to not have excessive influence on the classification results. As such, the tempo (in beats per minute) of each track was converted to an appropriately-scaled decimal value between 0.0 and 1.0, just like how danceability, energy, and valence are scaled.  \n",
    "Meanwhile, for Naive Bayes and Decision Tree classification, discretization was needed. As such, the danceability, energy, valence, and normalized tempo ratings for each track were converted to integers between 1 and 5 (0.0-0.2 = 1, 0.2-0.4 = 2, 0.4-0.6 = 3, etc.).  \n",
    "\n",
    "Overall, we found that all of the classifiers were quite close in performance. For example, the worst-performing classifier was kNN (k=3) with an accuracy of 68%, while the best-performing classifier was Naive Bayes with an accuracy of 70.5%. All of the classifiers performed well-above the results that a Dummy classifier would give (a 50% accuracy due to the 50/50 class split in the dataset).  \n",
    "Since Naive Bayes was the best-performing classifier, we created a Flask web app utilizing it for 'Hit' or 'Flop' predictions. The instructions on how to run this web app are in the 'README.md' file."
   ]
  },
  {
   "cell_type": "code",
   "execution_count": 12,
   "metadata": {},
   "outputs": [],
   "source": [
    "matrix_header = [\"Class\", \"Hit\", \"Flop\"]\n",
    "\n",
    "tempo_col = myutils.get_column(reduced_size_table, known_col_index=13) # Needed for normalization\n",
    "X_data = ([[track[3], track[4], track[12], myutils.normalize_tempo_value(track[13], min(tempo_col), max(tempo_col))]\n",
    "    for track in reduced_size_table])\n",
    "y_data = [track[-1] for track in reduced_size_table]"
   ]
  },
  {
   "cell_type": "markdown",
   "metadata": {},
   "source": [
    "### kNN Classifier, k=3"
   ]
  },
  {
   "cell_type": "code",
   "execution_count": 13,
   "metadata": {},
   "outputs": [
    {
     "name": "stdout",
     "output_type": "stream",
     "text": [
      "k Nearest Neighbors Classifier w/ Stratified 10-Fold Cross Validation\n",
      "accuracy: 0.68\n",
      "error rate: 0.31999999999999995\n",
      "precision: 0.6675977653631285\n",
      "recall: 0.717\n",
      "f1: 0.6914175506268081\n",
      "Class      Hit    Flop\n",
      "-------  -----  ------\n",
      "Hit        717     283\n",
      "Flop       357     643\n"
     ]
    }
   ],
   "source": [
    "knn_classifier = MyKNeighborsClassifier()\n",
    "print(\"k Nearest Neighbors Classifier w/ Stratified 10-Fold Cross Validation\")\n",
    "accuracy, error_rate, precision, recall, f1, knn_y_true, knn_y_pred = myevaluation.do_cross_validation(10,\n",
    "    X_data, y_data, knn_classifier, stratified=True, pos_label=1.0)\n",
    "print(\"accuracy:\", accuracy)\n",
    "print(\"error rate:\", error_rate)\n",
    "print(\"precision:\", precision)\n",
    "print(\"recall:\", recall)\n",
    "print(\"f1:\", f1)\n",
    "knn_matrix = myevaluation.confusion_matrix(knn_y_true, knn_y_pred, [1.0, 0.0])\n",
    "knn_matrix[0].insert(0, \"Hit\")\n",
    "knn_matrix[1].insert(0, \"Flop\")\n",
    "print(tabulate(knn_matrix, headers=matrix_header))"
   ]
  },
  {
   "cell_type": "markdown",
   "metadata": {},
   "source": [
    "### kNN Classifier, k=5"
   ]
  },
  {
   "cell_type": "code",
   "execution_count": 14,
   "metadata": {},
   "outputs": [
    {
     "name": "stdout",
     "output_type": "stream",
     "text": [
      "k Nearest Neighbors Classifier w/ Stratified 10-Fold Cross Validation\n",
      "accuracy: 0.6865\n",
      "error rate: 0.3135\n",
      "precision: 0.6651904340124003\n",
      "recall: 0.751\n",
      "f1: 0.7054955378111789\n",
      "Class      Hit    Flop\n",
      "-------  -----  ------\n",
      "Hit        751     249\n",
      "Flop       378     622\n"
     ]
    }
   ],
   "source": [
    "knn_classifier = MyKNeighborsClassifier(n_neighbors=5)\n",
    "print(\"k Nearest Neighbors Classifier w/ Stratified 10-Fold Cross Validation\")\n",
    "accuracy, error_rate, precision, recall, f1, knn_y_true, knn_y_pred = myevaluation.do_cross_validation(10,\n",
    "    X_data, y_data, knn_classifier, stratified=True, pos_label=1.0)\n",
    "print(\"accuracy:\", accuracy)\n",
    "print(\"error rate:\", error_rate)\n",
    "print(\"precision:\", precision)\n",
    "print(\"recall:\", recall)\n",
    "print(\"f1:\", f1)\n",
    "knn_matrix = myevaluation.confusion_matrix(knn_y_true, knn_y_pred, [1.0, 0.0])\n",
    "knn_matrix[0].insert(0, \"Hit\")\n",
    "knn_matrix[1].insert(0, \"Flop\")\n",
    "print(tabulate(knn_matrix, headers=matrix_header))"
   ]
  },
  {
   "cell_type": "markdown",
   "metadata": {},
   "source": [
    "### Naive Bayes Classifier"
   ]
  },
  {
   "cell_type": "code",
   "execution_count": 15,
   "metadata": {},
   "outputs": [],
   "source": [
    "discretized_X_data = ([[myutils.discretize_value(instance[0]), myutils.discretize_value(instance[1]),\n",
    "    myutils.discretize_value(instance[2]), myutils.discretize_value(instance[3])] for instance in X_data])"
   ]
  },
  {
   "cell_type": "code",
   "execution_count": 16,
   "metadata": {},
   "outputs": [
    {
     "name": "stdout",
     "output_type": "stream",
     "text": [
      "Naive Bayes Classifier w/ Stratified 10-Fold Cross Validation\n",
      "accuracy: 0.705\n",
      "error rate: 0.29500000000000004\n",
      "precision: 0.6708333333333333\n",
      "recall: 0.805\n",
      "f1: 0.7318181818181817\n",
      "Class      Hit    Flop\n",
      "-------  -----  ------\n",
      "Hit        805     195\n",
      "Flop       395     605\n"
     ]
    }
   ],
   "source": [
    "nb_classifier = MyNaiveBayesClassifier()\n",
    "print(\"Naive Bayes Classifier w/ Stratified 10-Fold Cross Validation\")\n",
    "accuracy, error_rate, precision, recall, f1, nb_y_true, nb_y_pred = myevaluation.do_cross_validation(10,\n",
    "    discretized_X_data, y_data, nb_classifier, stratified=True, pos_label=1.0)\n",
    "print(\"accuracy:\", accuracy)\n",
    "print(\"error rate:\", error_rate)\n",
    "print(\"precision:\", precision)\n",
    "print(\"recall:\", recall)\n",
    "print(\"f1:\", f1)\n",
    "nb_matrix = myevaluation.confusion_matrix(nb_y_true, nb_y_pred, [1.0, 0.0])\n",
    "nb_matrix[0].insert(0, \"Hit\")\n",
    "nb_matrix[1].insert(0, \"Flop\")\n",
    "print(tabulate(nb_matrix, headers=matrix_header))"
   ]
  },
  {
   "cell_type": "markdown",
   "metadata": {},
   "source": [
    "### Decision Tree Classifier"
   ]
  },
  {
   "cell_type": "code",
   "execution_count": 17,
   "metadata": {},
   "outputs": [
    {
     "name": "stdout",
     "output_type": "stream",
     "text": [
      "Decision Tree Classifier w/ Stratified 10-Fold Cross Validation\n",
      "accuracy: 0.703\n",
      "error rate: 0.29700000000000004\n",
      "precision: 0.6691666666666667\n",
      "recall: 0.803\n",
      "f1: 0.73\n",
      "Class      Hit    Flop\n",
      "-------  -----  ------\n",
      "Hit        803     197\n",
      "Flop       397     603\n"
     ]
    }
   ],
   "source": [
    "dt_classifier = MyDecisionTreeClassifier()\n",
    "print(\"Decision Tree Classifier w/ Stratified 10-Fold Cross Validation\")\n",
    "accuracy, error_rate, precision, recall, f1, dt_y_true, dt_y_pred = myevaluation.do_cross_validation(10,\n",
    "    discretized_X_data, y_data, dt_classifier, stratified=True, pos_label=1.0)\n",
    "print(\"accuracy:\", accuracy)\n",
    "print(\"error rate:\", error_rate)\n",
    "print(\"precision:\", precision)\n",
    "print(\"recall:\", recall)\n",
    "print(\"f1:\", f1)\n",
    "dt_matrix = myevaluation.confusion_matrix(dt_y_true, dt_y_pred, [1.0, 0.0])\n",
    "dt_matrix[0].insert(0, \"Hit\")\n",
    "dt_matrix[1].insert(0, \"Flop\")\n",
    "print(tabulate(dt_matrix, headers=matrix_header))"
   ]
  },
  {
   "cell_type": "markdown",
   "metadata": {},
   "source": [
    "## Conclusion\n",
    "In summary, this project revolved around utilizing a dataset of Spotify tracks in order to predict whether a particular track would be a 'Hit' (mainstream, commercial success) or a 'Flop'.  \n",
    "The main challenge of this classification task was dealing with the large scope of the dataset (40,000+ tracks/instances and 19 attributes per track).  \n",
    "\n",
    "Our approach involved utilizing exploratory data analysis in order to determine which track attributes to use in classification.  \n",
    "From there, each classifier was evaluated using stratified 10-fold cross validation, with normalization as well as discretization of different attributes being carried out as necessary.  \n",
    "\n",
    "The classifiers were all very close in performance, but the 70.5% accuracy of the Naive Bayes classifier managed to just barely beat out the 70.3% accuracy of the Decision Tree classifier.  \n",
    "\n",
    "In terms of improving classifier performance, an idea that comes to mind is refining the attribute/feature selection. With the decently large number of attributes in this dataset, it is likely that there are at least a few more of them that make for good class label predictors. For example, the 'chorus_hit' attribute (which is an \"estimate of when the chorus would start for the track\") might be worth investigating, as many popular songs are known to bring in the catchy chorus quickly in order to get people's attention."
   ]
  }
 ],
 "metadata": {
  "interpreter": {
   "hash": "d4d1e4263499bec80672ea0156c357c1ee493ec2b1c70f0acce89fc37c4a6abe"
  },
  "kernelspec": {
   "display_name": "Python 3.9.7 ('base')",
   "language": "python",
   "name": "python3"
  },
  "language_info": {
   "codemirror_mode": {
    "name": "ipython",
    "version": 3
   },
   "file_extension": ".py",
   "mimetype": "text/x-python",
   "name": "python",
   "nbconvert_exporter": "python",
   "pygments_lexer": "ipython3",
   "version": "3.9.7"
  },
  "orig_nbformat": 4
 },
 "nbformat": 4,
 "nbformat_minor": 2
}
